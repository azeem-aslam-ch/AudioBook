{
  "nbformat": 4,
  "nbformat_minor": 0,
  "metadata": {
    "colab": {
      "provenance": []
    },
    "kernelspec": {
      "name": "python3",
      "display_name": "Python 3"
    },
    "language_info": {
      "name": "python"
    }
  },
  "cells": [
    {
      "cell_type": "code",
      "execution_count": 1,
      "metadata": {
        "colab": {
          "base_uri": "https://localhost:8080/"
        },
        "id": "bX8czGTFOl5d",
        "outputId": "9b26fe9b-b1c0-44d3-cb96-541029b6839d"
      },
      "outputs": [
        {
          "output_type": "stream",
          "name": "stdout",
          "text": [
            "Collecting gTTS\n",
            "  Downloading gTTS-2.5.4-py3-none-any.whl.metadata (4.1 kB)\n",
            "Collecting pydub\n",
            "  Downloading pydub-0.25.1-py2.py3-none-any.whl.metadata (1.4 kB)\n",
            "Requirement already satisfied: requests<3,>=2.27 in /usr/local/lib/python3.10/dist-packages (from gTTS) (2.32.3)\n",
            "Requirement already satisfied: click<8.2,>=7.1 in /usr/local/lib/python3.10/dist-packages (from gTTS) (8.1.7)\n",
            "Requirement already satisfied: charset-normalizer<4,>=2 in /usr/local/lib/python3.10/dist-packages (from requests<3,>=2.27->gTTS) (3.4.0)\n",
            "Requirement already satisfied: idna<4,>=2.5 in /usr/local/lib/python3.10/dist-packages (from requests<3,>=2.27->gTTS) (3.10)\n",
            "Requirement already satisfied: urllib3<3,>=1.21.1 in /usr/local/lib/python3.10/dist-packages (from requests<3,>=2.27->gTTS) (2.2.3)\n",
            "Requirement already satisfied: certifi>=2017.4.17 in /usr/local/lib/python3.10/dist-packages (from requests<3,>=2.27->gTTS) (2024.12.14)\n",
            "Downloading gTTS-2.5.4-py3-none-any.whl (29 kB)\n",
            "Downloading pydub-0.25.1-py2.py3-none-any.whl (32 kB)\n",
            "Installing collected packages: pydub, gTTS\n",
            "Successfully installed gTTS-2.5.4 pydub-0.25.1\n"
          ]
        }
      ],
      "source": [
        "# Install required libraries\n",
        "!pip install gTTS pydub"
      ]
    },
    {
      "cell_type": "code",
      "source": [
        "# Import necessary libraries\n",
        "from gtts import gTTS\n",
        "from pydub import AudioSegment\n",
        "from pydub.playback import play\n",
        "import os"
      ],
      "metadata": {
        "id": "ofdEXRFPO0il"
      },
      "execution_count": 2,
      "outputs": []
    },
    {
      "cell_type": "code",
      "source": [
        "# Sample Urdu text\n",
        "urdu_text = \"\"\"\n",
        "انسان کی زندگی میں نشیب و فراز آتے ہیں، اور کبھی کبھی ایسا محسوس ہوتا ہے کہ ہر طرف اندھیرا ہی اندھیرا نظر آتا ہے۔ مشکلات اور چیلنجز انسان کو گھیر لیتے ہیں، اور امید کی کرنیں مدھم پڑ جاتی ہیں۔ ایسے لمحات میں انسان کو لگتا ہے کہ وہ اکیلا ہے، اور اس کی کوششیں بے سود ہیں۔ لیکن یہ بھی حقیقت ہے کہ اندھیرے کے بعد روشنی آتی ہے۔ ہر مشکل کے بعد آسانی ہوتی ہے، اور ہر رات کے بعد صبح کا سورج نکلتا ہے۔ انسان کو چاہیے کہ وہ ان نشیب و فراز کا سامنا کرے اور اپنی ہمت نہ ہارے، کیونکہ زندگی کی حقیقی خوبصورتی ان چیلنجز میں ہی پوشیدہ ہے۔\n",
        "\"\"\""
      ],
      "metadata": {
        "id": "MFJWBU7QO2Wu"
      },
      "execution_count": 7,
      "outputs": []
    },
    {
      "cell_type": "code",
      "source": [
        "# Function to convert text to speech\n",
        "def text_to_speech(text, lang='ur', filename='urdu_audiobook.mp3'):\n",
        "    tts = gTTS(text=text, lang=lang)\n",
        "    tts.save(filename)\n",
        "    print(f\"Audio saved as {filename}\")"
      ],
      "metadata": {
        "id": "ze5V5ckFO67t"
      },
      "execution_count": 8,
      "outputs": []
    },
    {
      "cell_type": "code",
      "source": [
        "# Convert text to speech\n",
        "audio_filename = 'urdu_audiobook.mp3'\n",
        "text_to_speech(urdu_text, lang='ur', filename=audio_filename)"
      ],
      "metadata": {
        "colab": {
          "base_uri": "https://localhost:8080/"
        },
        "id": "MbMHQAgWO-xC",
        "outputId": "25821f26-6e3f-4f8a-a7db-776795dbc9c8"
      },
      "execution_count": 9,
      "outputs": [
        {
          "output_type": "stream",
          "name": "stdout",
          "text": [
            "Audio saved as urdu_audiobook.mp3\n"
          ]
        }
      ]
    },
    {
      "cell_type": "code",
      "source": [
        "# Provide a link to download the audio file\n",
        "from google.colab import files\n",
        "files.download(audio_filename)"
      ],
      "metadata": {
        "colab": {
          "base_uri": "https://localhost:8080/",
          "height": 17
        },
        "id": "-IbJyCYSPHzZ",
        "outputId": "a18d1c1e-9e91-42ea-8e20-617d14da2029"
      },
      "execution_count": 10,
      "outputs": [
        {
          "output_type": "display_data",
          "data": {
            "text/plain": [
              "<IPython.core.display.Javascript object>"
            ],
            "application/javascript": [
              "\n",
              "    async function download(id, filename, size) {\n",
              "      if (!google.colab.kernel.accessAllowed) {\n",
              "        return;\n",
              "      }\n",
              "      const div = document.createElement('div');\n",
              "      const label = document.createElement('label');\n",
              "      label.textContent = `Downloading \"${filename}\": `;\n",
              "      div.appendChild(label);\n",
              "      const progress = document.createElement('progress');\n",
              "      progress.max = size;\n",
              "      div.appendChild(progress);\n",
              "      document.body.appendChild(div);\n",
              "\n",
              "      const buffers = [];\n",
              "      let downloaded = 0;\n",
              "\n",
              "      const channel = await google.colab.kernel.comms.open(id);\n",
              "      // Send a message to notify the kernel that we're ready.\n",
              "      channel.send({})\n",
              "\n",
              "      for await (const message of channel.messages) {\n",
              "        // Send a message to notify the kernel that we're ready.\n",
              "        channel.send({})\n",
              "        if (message.buffers) {\n",
              "          for (const buffer of message.buffers) {\n",
              "            buffers.push(buffer);\n",
              "            downloaded += buffer.byteLength;\n",
              "            progress.value = downloaded;\n",
              "          }\n",
              "        }\n",
              "      }\n",
              "      const blob = new Blob(buffers, {type: 'application/binary'});\n",
              "      const a = document.createElement('a');\n",
              "      a.href = window.URL.createObjectURL(blob);\n",
              "      a.download = filename;\n",
              "      div.appendChild(a);\n",
              "      a.click();\n",
              "      div.remove();\n",
              "    }\n",
              "  "
            ]
          },
          "metadata": {}
        },
        {
          "output_type": "display_data",
          "data": {
            "text/plain": [
              "<IPython.core.display.Javascript object>"
            ],
            "application/javascript": [
              "download(\"download_d26e5576-7f99-4340-86e4-69885f589c5c\", \"urdu_audiobook.mp3\", 403968)"
            ]
          },
          "metadata": {}
        }
      ]
    }
  ]
}